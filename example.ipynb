{
 "cells": [
  {
   "cell_type": "markdown",
   "id": "30f56425-fda7-4ad0-a458-e00af1817555",
   "metadata": {},
   "source": [
    "# 예시"
   ]
  },
  {
   "cell_type": "code",
   "execution_count": 2,
   "id": "1cb64c79-cc2b-4d69-809d-1dd3f32cf4cf",
   "metadata": {},
   "outputs": [],
   "source": [
    "import tensorflow as tf\n",
    "import numpy as np\n",
    "import matplotlib.pyplot as plt\n",
    "import os"
   ]
  },
  {
   "cell_type": "code",
   "execution_count": 3,
   "id": "a4f516df-e494-480a-9724-a0b92d96da62",
   "metadata": {},
   "outputs": [],
   "source": [
    "import MFR_modules"
   ]
  },
  {
   "cell_type": "code",
   "execution_count": 4,
   "id": "36500707-9c45-41e0-b83c-3b034a936cb4",
   "metadata": {},
   "outputs": [
    {
     "name": "stdout",
     "output_type": "stream",
     "text": [
      "(100, 300, 1) (100, 300, 1) (100, 300, 1) \n"
     ]
    }
   ],
   "source": [
    "# 음원을 sample_input으로 변환\n",
    "sample_input = MFR_modules.ext_sample_input('ETA.mp3') # 음악 파일 경로 입력"
   ]
  },
  {
   "cell_type": "code",
   "execution_count": 9,
   "id": "20708994-4e6a-4fb2-8503-89430f045b1c",
   "metadata": {},
   "outputs": [
    {
     "name": "stdout",
     "output_type": "stream",
     "text": [
      "1/1 [==============================] - 1s 662ms/step\n"
     ]
    },
    {
     "data": {
      "text/plain": [
       "array([0.03332346, 0.0283258 , 0.01379697, 0.20861046, 0.07923331,\n",
       "       0.03471782, 0.14224076, 0.18964699, 0.03891981, 0.12678851],\n",
       "      dtype=float32)"
      ]
     },
     "execution_count": 9,
     "metadata": {},
     "output_type": "execute_result"
    }
   ],
   "source": [
    "# 모델에 통과시키기\n",
    "MFR_modules.return_result_for_crnn(sample_input,\"MFR_model_mk_4_1\") \n",
    "# 위에서 추출한 sample_input, 모델 경로 입력\n",
    "# mk_4_1은 CRNN으로 설계돈 모델, 모듈의 return_result_for_crnn을 사용"
   ]
  },
  {
   "cell_type": "markdown",
   "id": "d6c89994-a6ca-474c-ad43-051f132b2c6b",
   "metadata": {},
   "source": [
    "##### 제일 위에 셀 import는 모듈import와는 별개로 실행되어야 함\n",
    "##### MFR_modules.ext_sample_input(음악파일경로) => 신경망 input형태로 변환\n",
    "##### MFR_modules.return_result_for_crnn(ext_sample_input의 리턴깂, 모델 경로) => 10차원 벡터출력\n",
    "##### 위 두개 모듈만 쓰면 됩니다.\n",
    "##### MFR_model_mk_4_1만 따로 저장해서 불러오면 됩니다."
   ]
  },
  {
   "cell_type": "code",
   "execution_count": null,
   "id": "338deb7f-e358-4db9-b9c4-07b53d426c3a",
   "metadata": {},
   "outputs": [],
   "source": []
  }
 ],
 "metadata": {
  "kernelspec": {
   "display_name": "Python 3 (ipykernel)",
   "language": "python",
   "name": "python3"
  },
  "language_info": {
   "codemirror_mode": {
    "name": "ipython",
    "version": 3
   },
   "file_extension": ".py",
   "mimetype": "text/x-python",
   "name": "python",
   "nbconvert_exporter": "python",
   "pygments_lexer": "ipython3",
   "version": "3.11.5"
  }
 },
 "nbformat": 4,
 "nbformat_minor": 5
}
