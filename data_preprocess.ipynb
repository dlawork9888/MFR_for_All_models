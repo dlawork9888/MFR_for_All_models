{
 "cells": [
  {
   "cell_type": "markdown",
   "id": "c552bf32-bdb0-49da-856a-233c08a81c9b",
   "metadata": {},
   "source": [
    "# 데이터 전처리"
   ]
  },
  {
   "cell_type": "markdown",
   "id": "30eb8e1f-132a-442d-b31c-f0ea9ac5de61",
   "metadata": {},
   "source": [
    "##### 음원 => datapoint\n",
    "##### datapoint를 모아서 input_data로\n",
    "##### input_data를 concatenate하여 for_train_npz로"
   ]
  },
  {
   "cell_type": "code",
   "execution_count": 1,
   "id": "d7b599a2-7d6a-40a6-97f5-d0b23db8cc6e",
   "metadata": {},
   "outputs": [],
   "source": [
    "import os\n",
    "import extraction_from_music\n",
    "import numpy as np "
   ]
  },
  {
   "cell_type": "code",
   "execution_count": null,
   "id": "7a33384c-4e23-47bf-9f8a-4b6909dc9d82",
   "metadata": {},
   "outputs": [],
   "source": [
    "\n",
    "input_data = []\n",
    "label_data = []\n",
    "music_count = 50\n",
    "# 음원의 각각의 경로를 따오기\n",
    "#current_directory = os.getcwd()\n",
    "train_data_path = 'genres_original'\n",
    "genres = os.listdir(train_data_path)\n",
    "\n",
    "print(f'-------------------------------------------genres : {genres}')\n",
    "\n",
    "for idx, genre in enumerate(genres):\n",
    "    now_folder = os.path.join(train_data_path, genre)\n",
    "    print(f'now_folder : {now_folder}')\n",
    "    files = os.listdir(now_folder)\n",
    "    count = 0\n",
    "    for file_name in files:\n",
    "        print(f'now_file_name : {file_name}')\n",
    "        # .ipynb_checkpoints는 continue\n",
    "        if file_name == '.ipynb_checkpoints':\n",
    "            continue\n",
    "        if count >= music_count:\n",
    "            break\n",
    "        \n",
    "        file_path = os.path.join(now_folder, file_name)\n",
    "        data_point = extraction_from_music.ext_datapoint(file_path)\n",
    "        # data_point.shape => axis = 0에 차원 추가\n",
    "        data_point = np.expand_dims(data_point, axis = 0)\n",
    "        input_data.append(data_point)\n",
    "        label_data.append(idx)\n",
    "        \n",
    "        count += 1\n",
    "    for _ in range(5):\n",
    "        print(f'##################################################')\n",
    "    print(f'############### len_data : {len(input_data)} ###############')\n",
    "        \n",
    "input_data = np.array(input_data)\n",
    "input_data = np.concatenate(input_data, axis = 0)\n",
    "label_data = np.array(label_data)\n",
    "np.savez('ds_for_train_' + str(music_count) + '.npz', input_data)\n",
    "np.savez('ds_for_train_label_' + str(music_count) + '.npz', label_data)\n"
   ]
  },
  {
   "cell_type": "code",
   "execution_count": 4,
   "id": "cc06331f-334a-4a71-aaec-5ff1ed5f628f",
   "metadata": {},
   "outputs": [
    {
     "name": "stdout",
     "output_type": "stream",
     "text": [
      "train_data.shape : (500, 100, 300, 3)\n",
      "train_data.shape : (500,)\n"
     ]
    }
   ],
   "source": [
    "# check\n",
    "train_data = np.load('ds_for_train_50.npz')['arr_0']\n",
    "print(f'train_data.shape : {train_data.shape}')\n",
    "label_data = np.load('ds_for_train_label_50.npz')['arr_0']\n",
    "print(f'train_data.shape : {label_data.shape}')"
   ]
  },
  {
   "cell_type": "markdown",
   "id": "4919df71-54b3-421a-8eda-af6276802dea",
   "metadata": {},
   "source": [
    "# new_input 출력 모듈"
   ]
  },
  {
   "cell_type": "code",
   "execution_count": 3,
   "id": "67f152ae-0424-40a0-9058-fcbd0c421ba0",
   "metadata": {},
   "outputs": [],
   "source": [
    "def ext_sample_input(file_path):\n",
    "    sample_data = extraction_from_music.ext_datapoint(file_path)\n",
    "    sample_data = np.expand_dims(sample_data, axis = 0)\n",
    "    return sample_data"
   ]
  },
  {
   "cell_type": "code",
   "execution_count": 22,
   "id": "3115490d-20bf-44d9-b63f-8d943aa7c986",
   "metadata": {},
   "outputs": [
    {
     "name": "stdout",
     "output_type": "stream",
     "text": [
      "original chroma_stft.shape : (12, 1293)\n",
      "slicing to [:,:1200]\n",
      "original mfcc.shape : (20, 1293)\n",
      "slicing to [:,:1200]\n",
      "slicing to [:,:1200]\n",
      "-------------linear interpolating done--------------\n",
      "-------------adding a dimension done--------------\n",
      "check!\n",
      "(100, 300, 1) (100, 300, 1) (100, 300, 1) \n",
      "-------------concatenating done--------------\n",
      "check!\n",
      "concatenated.shape : (100, 300, 3)\n"
     ]
    }
   ],
   "source": [
    "sample = ext_sample_input('genres_original/jazz/jazz.00099.wav')"
   ]
  },
  {
   "cell_type": "markdown",
   "id": "67700596-4949-4009-ade1-bc6aebbf9f3d",
   "metadata": {},
   "source": [
    "# 출력 맛보기"
   ]
  },
  {
   "cell_type": "code",
   "execution_count": 4,
   "id": "6d9f7839-c36d-4f28-abc7-c1f0818b3ed1",
   "metadata": {},
   "outputs": [
    {
     "name": "stdout",
     "output_type": "stream",
     "text": [
      "original chroma_stft.shape : (12, 1293)\n",
      "slicing to [:,:1200]\n",
      "original mfcc.shape : (20, 1293)\n",
      "slicing to [:,:1200]\n",
      "slicing to [:,:1200]\n",
      "-------------linear interpolating done--------------\n",
      "-------------adding a dimension done--------------\n",
      "check!\n",
      "(100, 300, 1) (100, 300, 1) (100, 300, 1) \n",
      "-------------concatenating done--------------\n",
      "check!\n",
      "concatenated.shape : (100, 300, 3)\n",
      "1/1 [==============================] - 0s 188ms/step\n",
      "[0.19273472 0.11011544 0.12657438 0.06720664 0.04275265 0.1920696\n",
      " 0.05195369 0.06209982 0.0797683  0.07472473]\n"
     ]
    }
   ],
   "source": [
    "import for_result\n",
    "\n",
    "sample_input = for_result.ext_sample_input('genres_original/jazz/jazz.00099.wav')\n",
    "result = for_result.return_result(sample_input, 'model_mk_1')\n",
    "print(result)"
   ]
  },
  {
   "cell_type": "code",
   "execution_count": null,
   "id": "e5134de4-ff48-4c20-9832-5f6f3d82fa45",
   "metadata": {},
   "outputs": [],
   "source": []
  }
 ],
 "metadata": {
  "kernelspec": {
   "display_name": "Python 3 (ipykernel)",
   "language": "python",
   "name": "python3"
  },
  "language_info": {
   "codemirror_mode": {
    "name": "ipython",
    "version": 3
   },
   "file_extension": ".py",
   "mimetype": "text/x-python",
   "name": "python",
   "nbconvert_exporter": "python",
   "pygments_lexer": "ipython3",
   "version": "3.11.5"
  }
 },
 "nbformat": 4,
 "nbformat_minor": 5
}
